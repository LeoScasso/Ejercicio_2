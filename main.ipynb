{
 "cells": [
  {
   "cell_type": "markdown",
   "metadata": {},
   "source": [
    "Se importan todas las funciones de los dos modulos utilizados para los incisos."
   ]
  },
  {
   "cell_type": "code",
   "execution_count": 26,
   "metadata": {},
   "outputs": [],
   "source": [
    "from generate_structure import *\n",
    "from calculator import *"
   ]
  },
  {
   "cell_type": "markdown",
   "metadata": {},
   "source": [
    "Se define los datos de las estadisticas brindadas por el ejercicio"
   ]
  },
  {
   "cell_type": "code",
   "execution_count": 27,
   "metadata": {},
   "outputs": [],
   "source": [
    "names = \"\"\" Agustin, Yanina, Andrés, Ariadna, Bautista, CAROLINA,\n",
    "CESAR, David, Diego, Dolores, DYLAN, ELIANA, Emanuel, Fabián, Noelia,\n",
    "Francsica', FEDERICO, Fernanda, GONZALO, Nancy \"\"\"\n",
    "goals = [0, 10, 4, 0, 5, 14, 0, 0, 7, 2, 1, 1, 1, 5, 6, 1, 1, 2, 0,\n",
    "11]\n",
    "goals_avoided = [0, 2, 0, 0, 5, 2, 0, 0, 1, 2, 0, 5, 5, 0, 1, 0, 2,\n",
    "3, 0, 0]\n",
    "assists = [0, 5, 1, 0, 5, 2, 0, 0, 1, 2, 1, 5, 5, 0, 1, 0, 2, 3, 1,\n",
    "0]"
   ]
  },
  {
   "cell_type": "markdown",
   "metadata": {},
   "source": [
    "Ahora, se invocan las funciones definidas en el modulo \"generate_structure\", estas sirven para almacenar dichas estadisticas en una única estructura de datos"
   ]
  },
  {
   "cell_type": "code",
   "execution_count": 28,
   "metadata": {},
   "outputs": [],
   "source": [
    "names = string_to_list(names)\n"
   ]
  },
  {
   "cell_type": "markdown",
   "metadata": {},
   "source": [
    "string_to_list funciona para formatear el string, limpiarlo de caracteres indeseados, poder separar todos sus nombres correctamente y redefinirlo como una lista de nombres para utilizarlo en la siguiente funcion:\n"
   ]
  },
  {
   "cell_type": "code",
   "execution_count": 29,
   "metadata": {},
   "outputs": [],
   "source": [
    "players = create_structure(names,goals,goals_avoided,assists)"
   ]
  },
  {
   "cell_type": "markdown",
   "metadata": {},
   "source": [
    "la cual almacenará las 4 listas de manera ordenada en un diccionario, utilizando los nombres como keys."
   ]
  },
  {
   "cell_type": "markdown",
   "metadata": {},
   "source": [
    "Finalmente, se invocan las 4 funciones del modulo \"calculator\", las cuales analizan los datos de los jugadores e imprimen distintas estadisticas del equipo:"
   ]
  },
  {
   "cell_type": "code",
   "execution_count": 30,
   "metadata": {},
   "outputs": [
    {
     "name": "stdout",
     "output_type": "stream",
     "text": [
      "Goleador/a: CAROLINA con 14 goles.\n",
      "Jugador/a mas influyente: CAROLINA\n",
      "Promedio de goles del equipo por partido: 2.84\n",
      "0.56\n"
     ]
    }
   ],
   "source": [
    "scorer = get_scorer(players)\n",
    "print(f\"Goleador/a: {scorer[0]} con {scorer[1]} goles.\")\n",
    "print(f\"Jugador/a mas influyente: {get_most_influential_player(players)}\")\n",
    "print(f\"Promedio de goles del equipo por partido: {get_average_goals_per_game(players)}\")\n",
    "print(f\"Promedio de goles del goleador por partido:  {get_average_scorer_goals(scorer)}\")"
   ]
  }
 ],
 "metadata": {
  "kernelspec": {
   "display_name": "venv",
   "language": "python",
   "name": "python3"
  },
  "language_info": {
   "codemirror_mode": {
    "name": "ipython",
    "version": 3
   },
   "file_extension": ".py",
   "mimetype": "text/x-python",
   "name": "python",
   "nbconvert_exporter": "python",
   "pygments_lexer": "ipython3",
   "version": "3.11.2"
  }
 },
 "nbformat": 4,
 "nbformat_minor": 2
}
